{
 "cells": [
  {
   "cell_type": "code",
   "execution_count": 1,
   "outputs": [],
   "source": [
    "import os\n",
    "import openai\n",
    "\n",
    "from dotenv import load_dotenv\n",
    "load_dotenv()\n",
    "openai.api_key = os.getenv(\"OPENAI_API_KEY\")\n",
    "\n",
    "def summarize(text: str):\n",
    "    prompt_template = \"\"\"Write a concise summary of the following:\n",
    "    {text}\n",
    "    CONCISE SUMMARY:\"\"\"\n",
    "    prompt = prompt_template.format(text=text)\n",
    "    # TODO: make call to openai, and parse the result\n",
    "\n",
    "\n",
    "    res = openai.Completion.create(\n",
    "        model=\"text-davinci-003\",\n",
    "        prompt=prompt,\n",
    "        max_tokens=100,\n",
    "        temperature=0\n",
    "    )\n",
    "\n",
    "    return res['choices'][0]['text']\n"
   ],
   "metadata": {
    "collapsed": false
   }
  },
  {
   "cell_type": "code",
   "execution_count": 4,
   "outputs": [
    {
     "data": {
      "text/plain": "['Madam Speaker, Madam Vice President, our First Lady and Second Gentleman. Members of Congress and the Cabinet. Justices of the Supreme Court. My fellow Americans.  ',\n 'Last year COVID-19 kept us apart. This year we are finally together again. ',\n 'Tonight, we meet as Democrats Republicans and Independents. But most importantly as Americans. ',\n 'With a duty to one another to the American people to the Constitution. ',\n 'And with an unwavering resolve that freedom will always triumph over tyranny. ']"
     },
     "execution_count": 4,
     "metadata": {},
     "output_type": "execute_result"
    }
   ],
   "source": [
    "from pathlib import Path\n",
    "filename = Path('docs/modules/state_of_the_union.txt')\n",
    "\n",
    "with open(filename) as file:\n",
    "    text = file.read()\n",
    "\n",
    "# Do chunking for summerization.\n",
    "chunks = text.split('\\n\\n')[:5]\n",
    "\n",
    "chunks"
   ],
   "metadata": {
    "collapsed": false
   }
  },
  {
   "cell_type": "code",
   "execution_count": 9,
   "outputs": [
    {
     "data": {
      "text/plain": "'\\n\\nSubject: Meeting Request\\n\\nDear [Name],\\n\\nI hope this email finds you well. I am writing to request a meeting with you to discuss [topic].\\n\\nI believe that this meeting would be beneficial for both of us, as it would provide an opportunity to [outline the purpose of the meeting].\\n\\nI am available to meet at your convenience. Please let me know when would be a good time for you and I will make the necessary arrangements.\\n\\n'"
     },
     "execution_count": 9,
     "metadata": {},
     "output_type": "execute_result"
    }
   ],
   "source": [
    "def execute(text: str):\n",
    "    res = openai.Completion.create(\n",
    "        model=\"text-davinci-003\",\n",
    "        prompt=text,\n",
    "        max_tokens=100,\n",
    "        temperature=0\n",
    "    )\n",
    "    return res['choices'][0]['text']\n",
    "\n",
    "execute('write me a email')"
   ],
   "metadata": {
    "collapsed": false
   }
  },
  {
   "cell_type": "code",
   "execution_count": null,
   "outputs": [],
   "source": [],
   "metadata": {
    "collapsed": false
   }
  },
  {
   "cell_type": "code",
   "execution_count": 11,
   "outputs": [],
   "source": [
    "# Convert this into condensed summary and/or relation graphs\n",
    "\n",
    "graph_template = '''\n",
    "Given a prompt, extrapolate as many relationships as possible from it and provide a list of updates.\n",
    "\n",
    "If an update is a relationship, provide [ENTITY 1, RELATIONSHIP, ENTITY 2]. The relationship is directed, so the order matters.\n",
    "\n",
    "If an update is related to a color, provide [ENTITY, COLOR]. Color is in hex format.\n",
    "\n",
    "If an update is related to deleting an entity, provide [\"DELETE\", ENTITY].\n",
    "\n",
    "Example:\n",
    "prompt: Alice is Bob's roommate. Make her node green.\n",
    "updates:\n",
    "[[\"Alice\", \"roommate\", \"Bob\"], [\"Alice\", \"#00FF00\"]]\n",
    "\n",
    "prompt: {prompt}\n",
    "updates:\n",
    "'''\n",
    "\n",
    "res = execute(graph_template.format(prompt=chunks[0]))"
   ],
   "metadata": {
    "collapsed": false
   }
  },
  {
   "cell_type": "code",
   "execution_count": 12,
   "outputs": [
    {
     "data": {
      "text/plain": "[['Madam Speaker', 'role', 'Congress'],\n ['Madam Vice President', 'role', 'Congress'],\n ['First Lady', 'role', 'President'],\n ['Second Gentleman', 'role', 'President'],\n ['Members of Congress', 'role', 'Congress'],\n ['Cabinet', 'role', 'President'],\n ['Justices of the Supreme Court', 'role', 'Supreme Court'],\n ['My fellow Americans', 'role', 'Citizens']]"
     },
     "execution_count": 12,
     "metadata": {},
     "output_type": "execute_result"
    }
   ],
   "source": [
    "import json\n",
    "\n",
    "# It could crash!\n",
    "json.loads(res)"
   ],
   "metadata": {
    "collapsed": false
   }
  },
  {
   "cell_type": "code",
   "execution_count": null,
   "outputs": [],
   "source": [
    "'''\n",
    "Given the current state of a graph and a prompt, extrapolate as many relationships as possible from the prompt and update the state. Every node has an id, label, and color (in hex). Every edge has a to and from with node ids, and a label. Edges are directed, so the order of the from and to is important.\n",
    "\n",
    "Examples:\n",
    "current state:\n",
    "{ \"nodes\": [ { \"id\": 1, \"label\": \"Bob\", \"color\": \"#ffffff\" } ], \"edges\": [] }\n",
    "\n",
    "prompt: Alice is Bob's roommate. Make her node green.\n",
    "\n",
    "new state:\n",
    "{ \"nodes\": [ { \"id\": 1, \"label\": \"Bob\", \"color\": \"#ffffff\" }, { \"id\": 2, \"label\": \"Alice\", \"color\": \"#ff7675\" } ], \"edges\": [ { \"from\": 1, \"to\": 2, \"label\": \"roommate\" } ] }\n",
    "\n",
    "current state:\n",
    "$state\n",
    "\n",
    "prompt: $prompt\n",
    "\n",
    "new state:\n",
    "'''"
   ],
   "metadata": {
    "collapsed": false
   }
  },
  {
   "cell_type": "code",
   "execution_count": 16,
   "outputs": [
    {
     "ename": "ExecutableNotFound",
     "evalue": "failed to execute PosixPath('dot'), make sure the Graphviz executables are on your systems' PATH",
     "output_type": "error",
     "traceback": [
      "\u001B[0;31m---------------------------------------------------------------------------\u001B[0m",
      "\u001B[0;31mFileNotFoundError\u001B[0m                         Traceback (most recent call last)",
      "File \u001B[0;32m~/workspace/contrib/langchain/.venv/lib/python3.10/site-packages/graphviz/backend/execute.py:79\u001B[0m, in \u001B[0;36mrun_check\u001B[0;34m(cmd, input_lines, encoding, quiet, **kwargs)\u001B[0m\n\u001B[1;32m     78\u001B[0m         kwargs[\u001B[38;5;124m'\u001B[39m\u001B[38;5;124mstdout\u001B[39m\u001B[38;5;124m'\u001B[39m] \u001B[38;5;241m=\u001B[39m kwargs[\u001B[38;5;124m'\u001B[39m\u001B[38;5;124mstderr\u001B[39m\u001B[38;5;124m'\u001B[39m] \u001B[38;5;241m=\u001B[39m subprocess\u001B[38;5;241m.\u001B[39mPIPE\n\u001B[0;32m---> 79\u001B[0m     proc \u001B[38;5;241m=\u001B[39m \u001B[43m_run_input_lines\u001B[49m\u001B[43m(\u001B[49m\u001B[43mcmd\u001B[49m\u001B[43m,\u001B[49m\u001B[43m \u001B[49m\u001B[43minput_lines\u001B[49m\u001B[43m,\u001B[49m\u001B[43m \u001B[49m\u001B[43mkwargs\u001B[49m\u001B[38;5;241;43m=\u001B[39;49m\u001B[43mkwargs\u001B[49m\u001B[43m)\u001B[49m\n\u001B[1;32m     80\u001B[0m \u001B[38;5;28;01melse\u001B[39;00m:\n",
      "File \u001B[0;32m~/workspace/contrib/langchain/.venv/lib/python3.10/site-packages/graphviz/backend/execute.py:99\u001B[0m, in \u001B[0;36m_run_input_lines\u001B[0;34m(cmd, input_lines, kwargs)\u001B[0m\n\u001B[1;32m     98\u001B[0m \u001B[38;5;28;01mdef\u001B[39;00m \u001B[38;5;21m_run_input_lines\u001B[39m(cmd, input_lines, \u001B[38;5;241m*\u001B[39m, kwargs):\n\u001B[0;32m---> 99\u001B[0m     popen \u001B[38;5;241m=\u001B[39m \u001B[43msubprocess\u001B[49m\u001B[38;5;241;43m.\u001B[39;49m\u001B[43mPopen\u001B[49m\u001B[43m(\u001B[49m\u001B[43mcmd\u001B[49m\u001B[43m,\u001B[49m\u001B[43m \u001B[49m\u001B[43mstdin\u001B[49m\u001B[38;5;241;43m=\u001B[39;49m\u001B[43msubprocess\u001B[49m\u001B[38;5;241;43m.\u001B[39;49m\u001B[43mPIPE\u001B[49m\u001B[43m,\u001B[49m\u001B[43m \u001B[49m\u001B[38;5;241;43m*\u001B[39;49m\u001B[38;5;241;43m*\u001B[39;49m\u001B[43mkwargs\u001B[49m\u001B[43m)\u001B[49m\n\u001B[1;32m    101\u001B[0m     stdin_write \u001B[38;5;241m=\u001B[39m popen\u001B[38;5;241m.\u001B[39mstdin\u001B[38;5;241m.\u001B[39mwrite\n",
      "File \u001B[0;32m~/.pyenv/versions/3.10.8/lib/python3.10/subprocess.py:971\u001B[0m, in \u001B[0;36mPopen.__init__\u001B[0;34m(self, args, bufsize, executable, stdin, stdout, stderr, preexec_fn, close_fds, shell, cwd, env, universal_newlines, startupinfo, creationflags, restore_signals, start_new_session, pass_fds, user, group, extra_groups, encoding, errors, text, umask, pipesize)\u001B[0m\n\u001B[1;32m    968\u001B[0m             \u001B[38;5;28mself\u001B[39m\u001B[38;5;241m.\u001B[39mstderr \u001B[38;5;241m=\u001B[39m io\u001B[38;5;241m.\u001B[39mTextIOWrapper(\u001B[38;5;28mself\u001B[39m\u001B[38;5;241m.\u001B[39mstderr,\n\u001B[1;32m    969\u001B[0m                     encoding\u001B[38;5;241m=\u001B[39mencoding, errors\u001B[38;5;241m=\u001B[39merrors)\n\u001B[0;32m--> 971\u001B[0m     \u001B[38;5;28;43mself\u001B[39;49m\u001B[38;5;241;43m.\u001B[39;49m\u001B[43m_execute_child\u001B[49m\u001B[43m(\u001B[49m\u001B[43margs\u001B[49m\u001B[43m,\u001B[49m\u001B[43m \u001B[49m\u001B[43mexecutable\u001B[49m\u001B[43m,\u001B[49m\u001B[43m \u001B[49m\u001B[43mpreexec_fn\u001B[49m\u001B[43m,\u001B[49m\u001B[43m \u001B[49m\u001B[43mclose_fds\u001B[49m\u001B[43m,\u001B[49m\n\u001B[1;32m    972\u001B[0m \u001B[43m                        \u001B[49m\u001B[43mpass_fds\u001B[49m\u001B[43m,\u001B[49m\u001B[43m \u001B[49m\u001B[43mcwd\u001B[49m\u001B[43m,\u001B[49m\u001B[43m \u001B[49m\u001B[43menv\u001B[49m\u001B[43m,\u001B[49m\n\u001B[1;32m    973\u001B[0m \u001B[43m                        \u001B[49m\u001B[43mstartupinfo\u001B[49m\u001B[43m,\u001B[49m\u001B[43m \u001B[49m\u001B[43mcreationflags\u001B[49m\u001B[43m,\u001B[49m\u001B[43m \u001B[49m\u001B[43mshell\u001B[49m\u001B[43m,\u001B[49m\n\u001B[1;32m    974\u001B[0m \u001B[43m                        \u001B[49m\u001B[43mp2cread\u001B[49m\u001B[43m,\u001B[49m\u001B[43m \u001B[49m\u001B[43mp2cwrite\u001B[49m\u001B[43m,\u001B[49m\n\u001B[1;32m    975\u001B[0m \u001B[43m                        \u001B[49m\u001B[43mc2pread\u001B[49m\u001B[43m,\u001B[49m\u001B[43m \u001B[49m\u001B[43mc2pwrite\u001B[49m\u001B[43m,\u001B[49m\n\u001B[1;32m    976\u001B[0m \u001B[43m                        \u001B[49m\u001B[43merrread\u001B[49m\u001B[43m,\u001B[49m\u001B[43m \u001B[49m\u001B[43merrwrite\u001B[49m\u001B[43m,\u001B[49m\n\u001B[1;32m    977\u001B[0m \u001B[43m                        \u001B[49m\u001B[43mrestore_signals\u001B[49m\u001B[43m,\u001B[49m\n\u001B[1;32m    978\u001B[0m \u001B[43m                        \u001B[49m\u001B[43mgid\u001B[49m\u001B[43m,\u001B[49m\u001B[43m \u001B[49m\u001B[43mgids\u001B[49m\u001B[43m,\u001B[49m\u001B[43m \u001B[49m\u001B[43muid\u001B[49m\u001B[43m,\u001B[49m\u001B[43m \u001B[49m\u001B[43mumask\u001B[49m\u001B[43m,\u001B[49m\n\u001B[1;32m    979\u001B[0m \u001B[43m                        \u001B[49m\u001B[43mstart_new_session\u001B[49m\u001B[43m)\u001B[49m\n\u001B[1;32m    980\u001B[0m \u001B[38;5;28;01mexcept\u001B[39;00m:\n\u001B[1;32m    981\u001B[0m     \u001B[38;5;66;03m# Cleanup if the child failed starting.\u001B[39;00m\n",
      "File \u001B[0;32m~/.pyenv/versions/3.10.8/lib/python3.10/subprocess.py:1847\u001B[0m, in \u001B[0;36mPopen._execute_child\u001B[0;34m(self, args, executable, preexec_fn, close_fds, pass_fds, cwd, env, startupinfo, creationflags, shell, p2cread, p2cwrite, c2pread, c2pwrite, errread, errwrite, restore_signals, gid, gids, uid, umask, start_new_session)\u001B[0m\n\u001B[1;32m   1846\u001B[0m         err_msg \u001B[38;5;241m=\u001B[39m os\u001B[38;5;241m.\u001B[39mstrerror(errno_num)\n\u001B[0;32m-> 1847\u001B[0m     \u001B[38;5;28;01mraise\u001B[39;00m child_exception_type(errno_num, err_msg, err_filename)\n\u001B[1;32m   1848\u001B[0m \u001B[38;5;28;01mraise\u001B[39;00m child_exception_type(err_msg)\n",
      "\u001B[0;31mFileNotFoundError\u001B[0m: [Errno 2] No such file or directory: PosixPath('dot')",
      "\nThe above exception was the direct cause of the following exception:\n",
      "\u001B[0;31mExecutableNotFound\u001B[0m                        Traceback (most recent call last)",
      "File \u001B[0;32m~/workspace/contrib/langchain/.venv/lib/python3.10/site-packages/IPython/core/formatters.py:972\u001B[0m, in \u001B[0;36mMimeBundleFormatter.__call__\u001B[0;34m(self, obj, include, exclude)\u001B[0m\n\u001B[1;32m    969\u001B[0m     method \u001B[38;5;241m=\u001B[39m get_real_method(obj, \u001B[38;5;28mself\u001B[39m\u001B[38;5;241m.\u001B[39mprint_method)\n\u001B[1;32m    971\u001B[0m     \u001B[38;5;28;01mif\u001B[39;00m method \u001B[38;5;129;01mis\u001B[39;00m \u001B[38;5;129;01mnot\u001B[39;00m \u001B[38;5;28;01mNone\u001B[39;00m:\n\u001B[0;32m--> 972\u001B[0m         \u001B[38;5;28;01mreturn\u001B[39;00m \u001B[43mmethod\u001B[49m\u001B[43m(\u001B[49m\u001B[43minclude\u001B[49m\u001B[38;5;241;43m=\u001B[39;49m\u001B[43minclude\u001B[49m\u001B[43m,\u001B[49m\u001B[43m \u001B[49m\u001B[43mexclude\u001B[49m\u001B[38;5;241;43m=\u001B[39;49m\u001B[43mexclude\u001B[49m\u001B[43m)\u001B[49m\n\u001B[1;32m    973\u001B[0m     \u001B[38;5;28;01mreturn\u001B[39;00m \u001B[38;5;28;01mNone\u001B[39;00m\n\u001B[1;32m    974\u001B[0m \u001B[38;5;28;01melse\u001B[39;00m:\n",
      "File \u001B[0;32m~/workspace/contrib/langchain/.venv/lib/python3.10/site-packages/graphviz/jupyter_integration.py:98\u001B[0m, in \u001B[0;36mJupyterIntegration._repr_mimebundle_\u001B[0;34m(self, include, exclude, **_)\u001B[0m\n\u001B[1;32m     96\u001B[0m include \u001B[38;5;241m=\u001B[39m \u001B[38;5;28mset\u001B[39m(include) \u001B[38;5;28;01mif\u001B[39;00m include \u001B[38;5;129;01mis\u001B[39;00m \u001B[38;5;129;01mnot\u001B[39;00m \u001B[38;5;28;01mNone\u001B[39;00m \u001B[38;5;28;01melse\u001B[39;00m {\u001B[38;5;28mself\u001B[39m\u001B[38;5;241m.\u001B[39m_jupyter_mimetype}\n\u001B[1;32m     97\u001B[0m include \u001B[38;5;241m-\u001B[39m\u001B[38;5;241m=\u001B[39m \u001B[38;5;28mset\u001B[39m(exclude \u001B[38;5;129;01mor\u001B[39;00m [])\n\u001B[0;32m---> 98\u001B[0m \u001B[38;5;28;01mreturn\u001B[39;00m {mimetype: \u001B[38;5;28mgetattr\u001B[39m(\u001B[38;5;28mself\u001B[39m, method_name)()\n\u001B[1;32m     99\u001B[0m         \u001B[38;5;28;01mfor\u001B[39;00m mimetype, method_name \u001B[38;5;129;01min\u001B[39;00m MIME_TYPES\u001B[38;5;241m.\u001B[39mitems()\n\u001B[1;32m    100\u001B[0m         \u001B[38;5;28;01mif\u001B[39;00m mimetype \u001B[38;5;129;01min\u001B[39;00m include}\n",
      "File \u001B[0;32m~/workspace/contrib/langchain/.venv/lib/python3.10/site-packages/graphviz/jupyter_integration.py:98\u001B[0m, in \u001B[0;36m<dictcomp>\u001B[0;34m(.0)\u001B[0m\n\u001B[1;32m     96\u001B[0m include \u001B[38;5;241m=\u001B[39m \u001B[38;5;28mset\u001B[39m(include) \u001B[38;5;28;01mif\u001B[39;00m include \u001B[38;5;129;01mis\u001B[39;00m \u001B[38;5;129;01mnot\u001B[39;00m \u001B[38;5;28;01mNone\u001B[39;00m \u001B[38;5;28;01melse\u001B[39;00m {\u001B[38;5;28mself\u001B[39m\u001B[38;5;241m.\u001B[39m_jupyter_mimetype}\n\u001B[1;32m     97\u001B[0m include \u001B[38;5;241m-\u001B[39m\u001B[38;5;241m=\u001B[39m \u001B[38;5;28mset\u001B[39m(exclude \u001B[38;5;129;01mor\u001B[39;00m [])\n\u001B[0;32m---> 98\u001B[0m \u001B[38;5;28;01mreturn\u001B[39;00m {mimetype: \u001B[38;5;28;43mgetattr\u001B[39;49m\u001B[43m(\u001B[49m\u001B[38;5;28;43mself\u001B[39;49m\u001B[43m,\u001B[49m\u001B[43m \u001B[49m\u001B[43mmethod_name\u001B[49m\u001B[43m)\u001B[49m\u001B[43m(\u001B[49m\u001B[43m)\u001B[49m\n\u001B[1;32m     99\u001B[0m         \u001B[38;5;28;01mfor\u001B[39;00m mimetype, method_name \u001B[38;5;129;01min\u001B[39;00m MIME_TYPES\u001B[38;5;241m.\u001B[39mitems()\n\u001B[1;32m    100\u001B[0m         \u001B[38;5;28;01mif\u001B[39;00m mimetype \u001B[38;5;129;01min\u001B[39;00m include}\n",
      "File \u001B[0;32m~/workspace/contrib/langchain/.venv/lib/python3.10/site-packages/graphviz/jupyter_integration.py:112\u001B[0m, in \u001B[0;36mJupyterIntegration._repr_image_svg_xml\u001B[0;34m(self)\u001B[0m\n\u001B[1;32m    110\u001B[0m \u001B[38;5;28;01mdef\u001B[39;00m \u001B[38;5;21m_repr_image_svg_xml\u001B[39m(\u001B[38;5;28mself\u001B[39m) \u001B[38;5;241m-\u001B[39m\u001B[38;5;241m>\u001B[39m \u001B[38;5;28mstr\u001B[39m:\n\u001B[1;32m    111\u001B[0m \u001B[38;5;250m    \u001B[39m\u001B[38;5;124;03m\"\"\"Return the rendered graph as SVG string.\"\"\"\u001B[39;00m\n\u001B[0;32m--> 112\u001B[0m     \u001B[38;5;28;01mreturn\u001B[39;00m \u001B[38;5;28;43mself\u001B[39;49m\u001B[38;5;241;43m.\u001B[39;49m\u001B[43mpipe\u001B[49m\u001B[43m(\u001B[49m\u001B[38;5;28;43mformat\u001B[39;49m\u001B[38;5;241;43m=\u001B[39;49m\u001B[38;5;124;43m'\u001B[39;49m\u001B[38;5;124;43msvg\u001B[39;49m\u001B[38;5;124;43m'\u001B[39;49m\u001B[43m,\u001B[49m\u001B[43m \u001B[49m\u001B[43mencoding\u001B[49m\u001B[38;5;241;43m=\u001B[39;49m\u001B[43mSVG_ENCODING\u001B[49m\u001B[43m)\u001B[49m\n",
      "File \u001B[0;32m~/workspace/contrib/langchain/.venv/lib/python3.10/site-packages/graphviz/piping.py:104\u001B[0m, in \u001B[0;36mPipe.pipe\u001B[0;34m(self, format, renderer, formatter, neato_no_op, quiet, engine, encoding)\u001B[0m\n\u001B[1;32m     55\u001B[0m \u001B[38;5;28;01mdef\u001B[39;00m \u001B[38;5;21mpipe\u001B[39m(\u001B[38;5;28mself\u001B[39m,\n\u001B[1;32m     56\u001B[0m          \u001B[38;5;28mformat\u001B[39m: typing\u001B[38;5;241m.\u001B[39mOptional[\u001B[38;5;28mstr\u001B[39m] \u001B[38;5;241m=\u001B[39m \u001B[38;5;28;01mNone\u001B[39;00m,\n\u001B[1;32m     57\u001B[0m          renderer: typing\u001B[38;5;241m.\u001B[39mOptional[\u001B[38;5;28mstr\u001B[39m] \u001B[38;5;241m=\u001B[39m \u001B[38;5;28;01mNone\u001B[39;00m,\n\u001B[0;32m   (...)\u001B[0m\n\u001B[1;32m     61\u001B[0m          engine: typing\u001B[38;5;241m.\u001B[39mOptional[\u001B[38;5;28mstr\u001B[39m] \u001B[38;5;241m=\u001B[39m \u001B[38;5;28;01mNone\u001B[39;00m,\n\u001B[1;32m     62\u001B[0m          encoding: typing\u001B[38;5;241m.\u001B[39mOptional[\u001B[38;5;28mstr\u001B[39m] \u001B[38;5;241m=\u001B[39m \u001B[38;5;28;01mNone\u001B[39;00m) \u001B[38;5;241m-\u001B[39m\u001B[38;5;241m>\u001B[39m typing\u001B[38;5;241m.\u001B[39mUnion[\u001B[38;5;28mbytes\u001B[39m, \u001B[38;5;28mstr\u001B[39m]:\n\u001B[1;32m     63\u001B[0m \u001B[38;5;250m    \u001B[39m\u001B[38;5;124;03m\"\"\"Return the source piped through the Graphviz layout command.\u001B[39;00m\n\u001B[1;32m     64\u001B[0m \n\u001B[1;32m     65\u001B[0m \u001B[38;5;124;03m    Args:\u001B[39;00m\n\u001B[0;32m   (...)\u001B[0m\n\u001B[1;32m    102\u001B[0m \u001B[38;5;124;03m        '<?xml version='\u001B[39;00m\n\u001B[1;32m    103\u001B[0m \u001B[38;5;124;03m    \"\"\"\u001B[39;00m\n\u001B[0;32m--> 104\u001B[0m     \u001B[38;5;28;01mreturn\u001B[39;00m \u001B[38;5;28;43mself\u001B[39;49m\u001B[38;5;241;43m.\u001B[39;49m\u001B[43m_pipe_legacy\u001B[49m\u001B[43m(\u001B[49m\u001B[38;5;28;43mformat\u001B[39;49m\u001B[43m,\u001B[49m\n\u001B[1;32m    105\u001B[0m \u001B[43m                             \u001B[49m\u001B[43mrenderer\u001B[49m\u001B[38;5;241;43m=\u001B[39;49m\u001B[43mrenderer\u001B[49m\u001B[43m,\u001B[49m\n\u001B[1;32m    106\u001B[0m \u001B[43m                             \u001B[49m\u001B[43mformatter\u001B[49m\u001B[38;5;241;43m=\u001B[39;49m\u001B[43mformatter\u001B[49m\u001B[43m,\u001B[49m\n\u001B[1;32m    107\u001B[0m \u001B[43m                             \u001B[49m\u001B[43mneato_no_op\u001B[49m\u001B[38;5;241;43m=\u001B[39;49m\u001B[43mneato_no_op\u001B[49m\u001B[43m,\u001B[49m\n\u001B[1;32m    108\u001B[0m \u001B[43m                             \u001B[49m\u001B[43mquiet\u001B[49m\u001B[38;5;241;43m=\u001B[39;49m\u001B[43mquiet\u001B[49m\u001B[43m,\u001B[49m\n\u001B[1;32m    109\u001B[0m \u001B[43m                             \u001B[49m\u001B[43mengine\u001B[49m\u001B[38;5;241;43m=\u001B[39;49m\u001B[43mengine\u001B[49m\u001B[43m,\u001B[49m\n\u001B[1;32m    110\u001B[0m \u001B[43m                             \u001B[49m\u001B[43mencoding\u001B[49m\u001B[38;5;241;43m=\u001B[39;49m\u001B[43mencoding\u001B[49m\u001B[43m)\u001B[49m\n",
      "File \u001B[0;32m~/workspace/contrib/langchain/.venv/lib/python3.10/site-packages/graphviz/_tools.py:171\u001B[0m, in \u001B[0;36mdeprecate_positional_args.<locals>.decorator.<locals>.wrapper\u001B[0;34m(*args, **kwargs)\u001B[0m\n\u001B[1;32m    162\u001B[0m     wanted \u001B[38;5;241m=\u001B[39m \u001B[38;5;124m'\u001B[39m\u001B[38;5;124m, \u001B[39m\u001B[38;5;124m'\u001B[39m\u001B[38;5;241m.\u001B[39mjoin(\u001B[38;5;124mf\u001B[39m\u001B[38;5;124m'\u001B[39m\u001B[38;5;132;01m{\u001B[39;00mname\u001B[38;5;132;01m}\u001B[39;00m\u001B[38;5;124m=\u001B[39m\u001B[38;5;132;01m{\u001B[39;00mvalue\u001B[38;5;132;01m!r}\u001B[39;00m\u001B[38;5;124m'\u001B[39m\n\u001B[1;32m    163\u001B[0m                        \u001B[38;5;28;01mfor\u001B[39;00m name, value \u001B[38;5;129;01min\u001B[39;00m deprecated\u001B[38;5;241m.\u001B[39mitems())\n\u001B[1;32m    164\u001B[0m     warnings\u001B[38;5;241m.\u001B[39mwarn(\u001B[38;5;124mf\u001B[39m\u001B[38;5;124m'\u001B[39m\u001B[38;5;124mThe signature of \u001B[39m\u001B[38;5;132;01m{\u001B[39;00mfunc\u001B[38;5;241m.\u001B[39m\u001B[38;5;18m__name__\u001B[39m\u001B[38;5;132;01m}\u001B[39;00m\u001B[38;5;124m will be reduced\u001B[39m\u001B[38;5;124m'\u001B[39m\n\u001B[1;32m    165\u001B[0m                   \u001B[38;5;124mf\u001B[39m\u001B[38;5;124m'\u001B[39m\u001B[38;5;124m to \u001B[39m\u001B[38;5;132;01m{\u001B[39;00msupported_number\u001B[38;5;132;01m}\u001B[39;00m\u001B[38;5;124m positional args\u001B[39m\u001B[38;5;124m'\u001B[39m\n\u001B[1;32m    166\u001B[0m                   \u001B[38;5;124mf\u001B[39m\u001B[38;5;124m'\u001B[39m\u001B[38;5;124m \u001B[39m\u001B[38;5;132;01m{\u001B[39;00m\u001B[38;5;28mlist\u001B[39m(supported)\u001B[38;5;132;01m}\u001B[39;00m\u001B[38;5;124m: pass \u001B[39m\u001B[38;5;132;01m{\u001B[39;00mwanted\u001B[38;5;132;01m}\u001B[39;00m\u001B[38;5;124m'\u001B[39m\n\u001B[1;32m    167\u001B[0m                   \u001B[38;5;124m'\u001B[39m\u001B[38;5;124m as keyword arg(s)\u001B[39m\u001B[38;5;124m'\u001B[39m,\n\u001B[1;32m    168\u001B[0m                   stacklevel\u001B[38;5;241m=\u001B[39mstacklevel,\n\u001B[1;32m    169\u001B[0m                   category\u001B[38;5;241m=\u001B[39mcategory)\n\u001B[0;32m--> 171\u001B[0m \u001B[38;5;28;01mreturn\u001B[39;00m \u001B[43mfunc\u001B[49m\u001B[43m(\u001B[49m\u001B[38;5;241;43m*\u001B[39;49m\u001B[43margs\u001B[49m\u001B[43m,\u001B[49m\u001B[43m \u001B[49m\u001B[38;5;241;43m*\u001B[39;49m\u001B[38;5;241;43m*\u001B[39;49m\u001B[43mkwargs\u001B[49m\u001B[43m)\u001B[49m\n",
      "File \u001B[0;32m~/workspace/contrib/langchain/.venv/lib/python3.10/site-packages/graphviz/piping.py:121\u001B[0m, in \u001B[0;36mPipe._pipe_legacy\u001B[0;34m(self, format, renderer, formatter, neato_no_op, quiet, engine, encoding)\u001B[0m\n\u001B[1;32m    112\u001B[0m \u001B[38;5;129m@_tools\u001B[39m\u001B[38;5;241m.\u001B[39mdeprecate_positional_args(supported_number\u001B[38;5;241m=\u001B[39m\u001B[38;5;241m2\u001B[39m)\n\u001B[1;32m    113\u001B[0m \u001B[38;5;28;01mdef\u001B[39;00m \u001B[38;5;21m_pipe_legacy\u001B[39m(\u001B[38;5;28mself\u001B[39m,\n\u001B[1;32m    114\u001B[0m                  \u001B[38;5;28mformat\u001B[39m: typing\u001B[38;5;241m.\u001B[39mOptional[\u001B[38;5;28mstr\u001B[39m] \u001B[38;5;241m=\u001B[39m \u001B[38;5;28;01mNone\u001B[39;00m,\n\u001B[0;32m   (...)\u001B[0m\n\u001B[1;32m    119\u001B[0m                  engine: typing\u001B[38;5;241m.\u001B[39mOptional[\u001B[38;5;28mstr\u001B[39m] \u001B[38;5;241m=\u001B[39m \u001B[38;5;28;01mNone\u001B[39;00m,\n\u001B[1;32m    120\u001B[0m                  encoding: typing\u001B[38;5;241m.\u001B[39mOptional[\u001B[38;5;28mstr\u001B[39m] \u001B[38;5;241m=\u001B[39m \u001B[38;5;28;01mNone\u001B[39;00m) \u001B[38;5;241m-\u001B[39m\u001B[38;5;241m>\u001B[39m typing\u001B[38;5;241m.\u001B[39mUnion[\u001B[38;5;28mbytes\u001B[39m, \u001B[38;5;28mstr\u001B[39m]:\n\u001B[0;32m--> 121\u001B[0m     \u001B[38;5;28;01mreturn\u001B[39;00m \u001B[38;5;28;43mself\u001B[39;49m\u001B[38;5;241;43m.\u001B[39;49m\u001B[43m_pipe_future\u001B[49m\u001B[43m(\u001B[49m\u001B[38;5;28;43mformat\u001B[39;49m\u001B[43m,\u001B[49m\n\u001B[1;32m    122\u001B[0m \u001B[43m                             \u001B[49m\u001B[43mrenderer\u001B[49m\u001B[38;5;241;43m=\u001B[39;49m\u001B[43mrenderer\u001B[49m\u001B[43m,\u001B[49m\n\u001B[1;32m    123\u001B[0m \u001B[43m                             \u001B[49m\u001B[43mformatter\u001B[49m\u001B[38;5;241;43m=\u001B[39;49m\u001B[43mformatter\u001B[49m\u001B[43m,\u001B[49m\n\u001B[1;32m    124\u001B[0m \u001B[43m                             \u001B[49m\u001B[43mneato_no_op\u001B[49m\u001B[38;5;241;43m=\u001B[39;49m\u001B[43mneato_no_op\u001B[49m\u001B[43m,\u001B[49m\n\u001B[1;32m    125\u001B[0m \u001B[43m                             \u001B[49m\u001B[43mquiet\u001B[49m\u001B[38;5;241;43m=\u001B[39;49m\u001B[43mquiet\u001B[49m\u001B[43m,\u001B[49m\n\u001B[1;32m    126\u001B[0m \u001B[43m                             \u001B[49m\u001B[43mengine\u001B[49m\u001B[38;5;241;43m=\u001B[39;49m\u001B[43mengine\u001B[49m\u001B[43m,\u001B[49m\n\u001B[1;32m    127\u001B[0m \u001B[43m                             \u001B[49m\u001B[43mencoding\u001B[49m\u001B[38;5;241;43m=\u001B[39;49m\u001B[43mencoding\u001B[49m\u001B[43m)\u001B[49m\n",
      "File \u001B[0;32m~/workspace/contrib/langchain/.venv/lib/python3.10/site-packages/graphviz/piping.py:149\u001B[0m, in \u001B[0;36mPipe._pipe_future\u001B[0;34m(self, format, renderer, formatter, neato_no_op, quiet, engine, encoding)\u001B[0m\n\u001B[1;32m    146\u001B[0m \u001B[38;5;28;01mif\u001B[39;00m encoding \u001B[38;5;129;01mis\u001B[39;00m \u001B[38;5;129;01mnot\u001B[39;00m \u001B[38;5;28;01mNone\u001B[39;00m:\n\u001B[1;32m    147\u001B[0m     \u001B[38;5;28;01mif\u001B[39;00m codecs\u001B[38;5;241m.\u001B[39mlookup(encoding) \u001B[38;5;129;01mis\u001B[39;00m codecs\u001B[38;5;241m.\u001B[39mlookup(\u001B[38;5;28mself\u001B[39m\u001B[38;5;241m.\u001B[39mencoding):\n\u001B[1;32m    148\u001B[0m         \u001B[38;5;66;03m# common case: both stdin and stdout need the same encoding\u001B[39;00m\n\u001B[0;32m--> 149\u001B[0m         \u001B[38;5;28;01mreturn\u001B[39;00m \u001B[38;5;28;43mself\u001B[39;49m\u001B[38;5;241;43m.\u001B[39;49m\u001B[43m_pipe_lines_string\u001B[49m\u001B[43m(\u001B[49m\u001B[38;5;241;43m*\u001B[39;49m\u001B[43margs\u001B[49m\u001B[43m,\u001B[49m\u001B[43m \u001B[49m\u001B[43mencoding\u001B[49m\u001B[38;5;241;43m=\u001B[39;49m\u001B[43mencoding\u001B[49m\u001B[43m,\u001B[49m\u001B[43m \u001B[49m\u001B[38;5;241;43m*\u001B[39;49m\u001B[38;5;241;43m*\u001B[39;49m\u001B[43mkwargs\u001B[49m\u001B[43m)\u001B[49m\n\u001B[1;32m    150\u001B[0m     \u001B[38;5;28;01mtry\u001B[39;00m:\n\u001B[1;32m    151\u001B[0m         raw \u001B[38;5;241m=\u001B[39m \u001B[38;5;28mself\u001B[39m\u001B[38;5;241m.\u001B[39m_pipe_lines(\u001B[38;5;241m*\u001B[39margs, input_encoding\u001B[38;5;241m=\u001B[39m\u001B[38;5;28mself\u001B[39m\u001B[38;5;241m.\u001B[39mencoding, \u001B[38;5;241m*\u001B[39m\u001B[38;5;241m*\u001B[39mkwargs)\n",
      "File \u001B[0;32m~/workspace/contrib/langchain/.venv/lib/python3.10/site-packages/graphviz/backend/piping.py:212\u001B[0m, in \u001B[0;36mpipe_lines_string\u001B[0;34m(engine, format, input_lines, encoding, renderer, formatter, neato_no_op, quiet)\u001B[0m\n\u001B[1;32m    206\u001B[0m cmd \u001B[38;5;241m=\u001B[39m dot_command\u001B[38;5;241m.\u001B[39mcommand(engine, \u001B[38;5;28mformat\u001B[39m,\n\u001B[1;32m    207\u001B[0m                           renderer\u001B[38;5;241m=\u001B[39mrenderer,\n\u001B[1;32m    208\u001B[0m                           formatter\u001B[38;5;241m=\u001B[39mformatter,\n\u001B[1;32m    209\u001B[0m                           neato_no_op\u001B[38;5;241m=\u001B[39mneato_no_op)\n\u001B[1;32m    210\u001B[0m kwargs \u001B[38;5;241m=\u001B[39m {\u001B[38;5;124m'\u001B[39m\u001B[38;5;124minput_lines\u001B[39m\u001B[38;5;124m'\u001B[39m: input_lines, \u001B[38;5;124m'\u001B[39m\u001B[38;5;124mencoding\u001B[39m\u001B[38;5;124m'\u001B[39m: encoding}\n\u001B[0;32m--> 212\u001B[0m proc \u001B[38;5;241m=\u001B[39m \u001B[43mexecute\u001B[49m\u001B[38;5;241;43m.\u001B[39;49m\u001B[43mrun_check\u001B[49m\u001B[43m(\u001B[49m\u001B[43mcmd\u001B[49m\u001B[43m,\u001B[49m\u001B[43m \u001B[49m\u001B[43mcapture_output\u001B[49m\u001B[38;5;241;43m=\u001B[39;49m\u001B[38;5;28;43;01mTrue\u001B[39;49;00m\u001B[43m,\u001B[49m\u001B[43m \u001B[49m\u001B[43mquiet\u001B[49m\u001B[38;5;241;43m=\u001B[39;49m\u001B[43mquiet\u001B[49m\u001B[43m,\u001B[49m\u001B[43m \u001B[49m\u001B[38;5;241;43m*\u001B[39;49m\u001B[38;5;241;43m*\u001B[39;49m\u001B[43mkwargs\u001B[49m\u001B[43m)\u001B[49m\n\u001B[1;32m    213\u001B[0m \u001B[38;5;28;01mreturn\u001B[39;00m proc\u001B[38;5;241m.\u001B[39mstdout\n",
      "File \u001B[0;32m~/workspace/contrib/langchain/.venv/lib/python3.10/site-packages/graphviz/backend/execute.py:84\u001B[0m, in \u001B[0;36mrun_check\u001B[0;34m(cmd, input_lines, encoding, quiet, **kwargs)\u001B[0m\n\u001B[1;32m     82\u001B[0m \u001B[38;5;28;01mexcept\u001B[39;00m \u001B[38;5;167;01mOSError\u001B[39;00m \u001B[38;5;28;01mas\u001B[39;00m e:\n\u001B[1;32m     83\u001B[0m     \u001B[38;5;28;01mif\u001B[39;00m e\u001B[38;5;241m.\u001B[39merrno \u001B[38;5;241m==\u001B[39m errno\u001B[38;5;241m.\u001B[39mENOENT:\n\u001B[0;32m---> 84\u001B[0m         \u001B[38;5;28;01mraise\u001B[39;00m ExecutableNotFound(cmd) \u001B[38;5;28;01mfrom\u001B[39;00m \u001B[38;5;21;01me\u001B[39;00m\n\u001B[1;32m     85\u001B[0m     \u001B[38;5;28;01mraise\u001B[39;00m\n\u001B[1;32m     87\u001B[0m \u001B[38;5;28;01mif\u001B[39;00m \u001B[38;5;129;01mnot\u001B[39;00m quiet \u001B[38;5;129;01mand\u001B[39;00m proc\u001B[38;5;241m.\u001B[39mstderr:\n",
      "\u001B[0;31mExecutableNotFound\u001B[0m: failed to execute PosixPath('dot'), make sure the Graphviz executables are on your systems' PATH"
     ]
    },
    {
     "data": {
      "text/plain": "<graphviz.graphs.Digraph at 0x13540a590>"
     },
     "execution_count": 16,
     "metadata": {},
     "output_type": "execute_result"
    }
   ],
   "source": [
    "import graphviz\n",
    "\n",
    "dot = graphviz.Digraph('round-table', comment='The Round Table')\n",
    "dot"
   ],
   "metadata": {
    "collapsed": false
   }
  },
  {
   "cell_type": "markdown",
   "source": [],
   "metadata": {
    "collapsed": false
   }
  },
  {
   "cell_type": "code",
   "execution_count": 20,
   "outputs": [
    {
     "ename": "ModuleNotFoundError",
     "evalue": "No module named 'langchain.indexes'",
     "output_type": "error",
     "traceback": [
      "\u001B[0;31m---------------------------------------------------------------------------\u001B[0m",
      "\u001B[0;31mModuleNotFoundError\u001B[0m                       Traceback (most recent call last)",
      "Cell \u001B[0;32mIn[20], line 1\u001B[0m\n\u001B[0;32m----> 1\u001B[0m \u001B[38;5;28;01mfrom\u001B[39;00m \u001B[38;5;21;01mlangchain\u001B[39;00m\u001B[38;5;21;01m.\u001B[39;00m\u001B[38;5;21;01mindexes\u001B[39;00m \u001B[38;5;28;01mimport\u001B[39;00m GraphIndexCreator\n\u001B[1;32m      2\u001B[0m \u001B[38;5;28;01mfrom\u001B[39;00m \u001B[38;5;21;01mlangchain\u001B[39;00m\u001B[38;5;21;01m.\u001B[39;00m\u001B[38;5;21;01mllms\u001B[39;00m \u001B[38;5;28;01mimport\u001B[39;00m OpenAI\n\u001B[1;32m      3\u001B[0m \u001B[38;5;28;01mfrom\u001B[39;00m \u001B[38;5;21;01mlangchain\u001B[39;00m\u001B[38;5;21;01m.\u001B[39;00m\u001B[38;5;21;01mdocument_loaders\u001B[39;00m \u001B[38;5;28;01mimport\u001B[39;00m TextLoader\n",
      "\u001B[0;31mModuleNotFoundError\u001B[0m: No module named 'langchain.indexes'"
     ]
    }
   ],
   "source": [
    "from langchain.indexes import GraphIndexCreator\n",
    "from langchain.llms import OpenAI\n",
    "from langchain.document_loaders import TextLoader\n",
    "\n"
   ],
   "metadata": {
    "collapsed": false
   }
  },
  {
   "cell_type": "code",
   "execution_count": 21,
   "outputs": [
    {
     "ename": "ModuleNotFoundError",
     "evalue": "No module named 'langchain.indexes'",
     "output_type": "error",
     "traceback": [
      "\u001B[0;31m---------------------------------------------------------------------------\u001B[0m",
      "\u001B[0;31mModuleNotFoundError\u001B[0m                       Traceback (most recent call last)",
      "Cell \u001B[0;32mIn[21], line 1\u001B[0m\n\u001B[0;32m----> 1\u001B[0m \u001B[38;5;28;01mfrom\u001B[39;00m \u001B[38;5;21;01mlangchain\u001B[39;00m\u001B[38;5;21;01m.\u001B[39;00m\u001B[38;5;21;01mindexes\u001B[39;00m \u001B[38;5;28;01mimport\u001B[39;00m GraphIndexCreator\n\u001B[1;32m      2\u001B[0m \u001B[38;5;28;01mfrom\u001B[39;00m \u001B[38;5;21;01mlangchain\u001B[39;00m\u001B[38;5;21;01m.\u001B[39;00m\u001B[38;5;21;01mllms\u001B[39;00m \u001B[38;5;28;01mimport\u001B[39;00m OpenAI\n\u001B[1;32m      3\u001B[0m \u001B[38;5;28;01mfrom\u001B[39;00m \u001B[38;5;21;01mlangchain\u001B[39;00m\u001B[38;5;21;01m.\u001B[39;00m\u001B[38;5;21;01mdocument_loaders\u001B[39;00m \u001B[38;5;28;01mimport\u001B[39;00m TextLoader\n",
      "\u001B[0;31mModuleNotFoundError\u001B[0m: No module named 'langchain.indexes'"
     ]
    }
   ],
   "source": [
    "from langchain.indexes import GraphIndexCreator\n",
    "from langchain.llms import OpenAI\n",
    "from langchain.document_loaders import TextLoader"
   ],
   "metadata": {
    "collapsed": false
   }
  },
  {
   "cell_type": "code",
   "execution_count": null,
   "outputs": [],
   "source": [],
   "metadata": {
    "collapsed": false
   }
  }
 ],
 "metadata": {
  "kernelspec": {
   "display_name": "Python 3",
   "language": "python",
   "name": "python3"
  },
  "language_info": {
   "codemirror_mode": {
    "name": "ipython",
    "version": 2
   },
   "file_extension": ".py",
   "mimetype": "text/x-python",
   "name": "python",
   "nbconvert_exporter": "python",
   "pygments_lexer": "ipython2",
   "version": "2.7.6"
  }
 },
 "nbformat": 4,
 "nbformat_minor": 0
}
